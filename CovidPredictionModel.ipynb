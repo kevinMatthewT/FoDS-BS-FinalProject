{
 "cells": [
  {
   "cell_type": "code",
   "execution_count": 1,
   "metadata": {},
   "outputs": [],
   "source": [
    "import pandas as pd\n",
    "import datetime\n",
    "\n",
    "import numpy as np\n",
    "from sklearn.svm import SVR\n",
    "from sklearn.metrics import mean_squared_error, mean_absolute_error\n",
    "import datetime\n",
    "import operator\n",
    "\n",
    "import warnings\n",
    "warnings.filterwarnings(\"ignore\")\n",
    "\n",
    "from sklearn.cluster import KMeans\n",
    "from sklearn.preprocessing import MinMaxScaler\n",
    "from sklearn.preprocessing import StandardScaler\n",
    "from matplotlib import pyplot as plt"
   ]
  },
  {
   "cell_type": "code",
   "execution_count": 2,
   "metadata": {},
   "outputs": [],
   "source": [
    "url='https://raw.githubusercontent.com/CSSEGISandData/COVID-19/master/csse_covid_19_data/csse_covid_19_time_series/time_series_covid19_confirmed_global.csv'\n",
    "covid_data_RAW = pd.read_csv(url)"
   ]
  },
  {
   "cell_type": "code",
   "execution_count": 3,
   "metadata": {},
   "outputs": [],
   "source": [
    "covid_data = covid_data_RAW.rename(\n",
    "        columns = {'Province/State':'subregion'\n",
    "                   ,'Country/Region':'country'\n",
    "                   ,'Lat':'lat'\n",
    "                   ,'Long':'long'\n",
    "                   }\n",
    "        )"
   ]
  },
  {
   "cell_type": "code",
   "execution_count": 4,
   "metadata": {},
   "outputs": [],
   "source": [
    "covid_data = (covid_data.melt(id_vars = ['country','subregion','lat','long']\n",
    "                 ,var_name = 'date_RAW'\n",
    "                 ,value_name = 'confirmed'\n",
    "                 )\n",
    ")"
   ]
  },
  {
   "cell_type": "code",
   "execution_count": 5,
   "metadata": {},
   "outputs": [
    {
     "data": {
      "text/html": [
       "<div>\n",
       "<style scoped>\n",
       "    .dataframe tbody tr th:only-of-type {\n",
       "        vertical-align: middle;\n",
       "    }\n",
       "\n",
       "    .dataframe tbody tr th {\n",
       "        vertical-align: top;\n",
       "    }\n",
       "\n",
       "    .dataframe thead th {\n",
       "        text-align: right;\n",
       "    }\n",
       "</style>\n",
       "<table border=\"1\" class=\"dataframe\">\n",
       "  <thead>\n",
       "    <tr style=\"text-align: right;\">\n",
       "      <th></th>\n",
       "      <th>date_RAW</th>\n",
       "    </tr>\n",
       "  </thead>\n",
       "  <tbody>\n",
       "    <tr>\n",
       "      <th>0</th>\n",
       "      <td>1/22/20</td>\n",
       "    </tr>\n",
       "    <tr>\n",
       "      <th>1</th>\n",
       "      <td>1/22/20</td>\n",
       "    </tr>\n",
       "    <tr>\n",
       "      <th>2</th>\n",
       "      <td>1/22/20</td>\n",
       "    </tr>\n",
       "    <tr>\n",
       "      <th>3</th>\n",
       "      <td>1/22/20</td>\n",
       "    </tr>\n",
       "    <tr>\n",
       "      <th>4</th>\n",
       "      <td>1/22/20</td>\n",
       "    </tr>\n",
       "    <tr>\n",
       "      <th>...</th>\n",
       "      <td>...</td>\n",
       "    </tr>\n",
       "    <tr>\n",
       "      <th>315005</th>\n",
       "      <td>1/15/23</td>\n",
       "    </tr>\n",
       "    <tr>\n",
       "      <th>315006</th>\n",
       "      <td>1/15/23</td>\n",
       "    </tr>\n",
       "    <tr>\n",
       "      <th>315007</th>\n",
       "      <td>1/15/23</td>\n",
       "    </tr>\n",
       "    <tr>\n",
       "      <th>315008</th>\n",
       "      <td>1/15/23</td>\n",
       "    </tr>\n",
       "    <tr>\n",
       "      <th>315009</th>\n",
       "      <td>1/15/23</td>\n",
       "    </tr>\n",
       "  </tbody>\n",
       "</table>\n",
       "<p>315010 rows × 1 columns</p>\n",
       "</div>"
      ],
      "text/plain": [
       "       date_RAW\n",
       "0       1/22/20\n",
       "1       1/22/20\n",
       "2       1/22/20\n",
       "3       1/22/20\n",
       "4       1/22/20\n",
       "...         ...\n",
       "315005  1/15/23\n",
       "315006  1/15/23\n",
       "315007  1/15/23\n",
       "315008  1/15/23\n",
       "315009  1/15/23\n",
       "\n",
       "[315010 rows x 1 columns]"
      ]
     },
     "execution_count": 5,
     "metadata": {},
     "output_type": "execute_result"
    }
   ],
   "source": [
    "(covid_data\n",
    "    .filter(['date_RAW'])\n",
    ")"
   ]
  },
  {
   "cell_type": "code",
   "execution_count": 6,
   "metadata": {},
   "outputs": [
    {
     "data": {
      "text/html": [
       "<div>\n",
       "<style scoped>\n",
       "    .dataframe tbody tr th:only-of-type {\n",
       "        vertical-align: middle;\n",
       "    }\n",
       "\n",
       "    .dataframe tbody tr th {\n",
       "        vertical-align: top;\n",
       "    }\n",
       "\n",
       "    .dataframe thead th {\n",
       "        text-align: right;\n",
       "    }\n",
       "</style>\n",
       "<table border=\"1\" class=\"dataframe\">\n",
       "  <thead>\n",
       "    <tr style=\"text-align: right;\">\n",
       "      <th></th>\n",
       "      <th></th>\n",
       "      <th>confirmed</th>\n",
       "    </tr>\n",
       "    <tr>\n",
       "      <th>date</th>\n",
       "      <th>date_RAW</th>\n",
       "      <th></th>\n",
       "    </tr>\n",
       "  </thead>\n",
       "  <tbody>\n",
       "    <tr>\n",
       "      <th>2020-01-22</th>\n",
       "      <th>1/22/20</th>\n",
       "      <td>557</td>\n",
       "    </tr>\n",
       "    <tr>\n",
       "      <th>2020-01-23</th>\n",
       "      <th>1/23/20</th>\n",
       "      <td>657</td>\n",
       "    </tr>\n",
       "    <tr>\n",
       "      <th>2020-01-24</th>\n",
       "      <th>1/24/20</th>\n",
       "      <td>944</td>\n",
       "    </tr>\n",
       "    <tr>\n",
       "      <th>2020-01-25</th>\n",
       "      <th>1/25/20</th>\n",
       "      <td>1437</td>\n",
       "    </tr>\n",
       "    <tr>\n",
       "      <th>2020-01-26</th>\n",
       "      <th>1/26/20</th>\n",
       "      <td>2120</td>\n",
       "    </tr>\n",
       "    <tr>\n",
       "      <th>...</th>\n",
       "      <th>...</th>\n",
       "      <td>...</td>\n",
       "    </tr>\n",
       "    <tr>\n",
       "      <th>2023-01-11</th>\n",
       "      <th>1/11/23</th>\n",
       "      <td>665649811</td>\n",
       "    </tr>\n",
       "    <tr>\n",
       "      <th>2023-01-12</th>\n",
       "      <th>1/12/23</th>\n",
       "      <td>666125230</td>\n",
       "    </tr>\n",
       "    <tr>\n",
       "      <th>2023-01-13</th>\n",
       "      <th>1/13/23</th>\n",
       "      <td>666565625</td>\n",
       "    </tr>\n",
       "    <tr>\n",
       "      <th>2023-01-14</th>\n",
       "      <th>1/14/23</th>\n",
       "      <td>666786373</td>\n",
       "    </tr>\n",
       "    <tr>\n",
       "      <th>2023-01-15</th>\n",
       "      <th>1/15/23</th>\n",
       "      <td>666981668</td>\n",
       "    </tr>\n",
       "  </tbody>\n",
       "</table>\n",
       "<p>1090 rows × 1 columns</p>\n",
       "</div>"
      ],
      "text/plain": [
       "                     confirmed\n",
       "date       date_RAW           \n",
       "2020-01-22 1/22/20         557\n",
       "2020-01-23 1/23/20         657\n",
       "2020-01-24 1/24/20         944\n",
       "2020-01-25 1/25/20        1437\n",
       "2020-01-26 1/26/20        2120\n",
       "...                        ...\n",
       "2023-01-11 1/11/23   665649811\n",
       "2023-01-12 1/12/23   666125230\n",
       "2023-01-13 1/13/23   666565625\n",
       "2023-01-14 1/14/23   666786373\n",
       "2023-01-15 1/15/23   666981668\n",
       "\n",
       "[1090 rows x 1 columns]"
      ]
     },
     "execution_count": 6,
     "metadata": {},
     "output_type": "execute_result"
    }
   ],
   "source": [
    "(covid_data\n",
    "    .assign(date = pd.to_datetime(covid_data.date_RAW, format='%m/%d/%y'))\n",
    "    .filter(['date','date_RAW','confirmed'])\n",
    "    .groupby(['date','date_RAW'])\n",
    "    .agg('sum')\n",
    "    .sort_values('date')\n",
    ")"
   ]
  },
  {
   "cell_type": "code",
   "execution_count": 7,
   "metadata": {},
   "outputs": [],
   "source": [
    "covid_data = covid_data.assign(\n",
    "         date = pd.to_datetime(covid_data.date_RAW, format='%m/%d/%y')\n",
    "         )"
   ]
  },
  {
   "cell_type": "code",
   "execution_count": 8,
   "metadata": {},
   "outputs": [],
   "source": [
    "covid_data = (covid_data\n",
    "               .filter(['country', 'subregion', 'date', 'lat', 'long', 'confirmed'])\n",
    "               .sort_values(['country','subregion','lat','long','date'])\n",
    "               )\n"
   ]
  },
  {
   "cell_type": "code",
   "execution_count": 9,
   "metadata": {},
   "outputs": [],
   "source": [
    "covid_data.set_index('country', inplace = True)"
   ]
  },
  {
   "cell_type": "code",
   "execution_count": 10,
   "metadata": {},
   "outputs": [],
   "source": [
    "pd.set_option('display.max_rows', 155)"
   ]
  },
  {
   "cell_type": "code",
   "execution_count": 11,
   "metadata": {},
   "outputs": [
    {
     "data": {
      "text/html": [
       "<div>\n",
       "<style scoped>\n",
       "    .dataframe tbody tr th:only-of-type {\n",
       "        vertical-align: middle;\n",
       "    }\n",
       "\n",
       "    .dataframe tbody tr th {\n",
       "        vertical-align: top;\n",
       "    }\n",
       "\n",
       "    .dataframe thead th {\n",
       "        text-align: right;\n",
       "    }\n",
       "</style>\n",
       "<table border=\"1\" class=\"dataframe\">\n",
       "  <thead>\n",
       "    <tr style=\"text-align: right;\">\n",
       "      <th></th>\n",
       "      <th>country</th>\n",
       "    </tr>\n",
       "  </thead>\n",
       "  <tbody>\n",
       "    <tr>\n",
       "      <th>0</th>\n",
       "      <td>Afghanistan</td>\n",
       "    </tr>\n",
       "    <tr>\n",
       "      <th>1090</th>\n",
       "      <td>Albania</td>\n",
       "    </tr>\n",
       "    <tr>\n",
       "      <th>2180</th>\n",
       "      <td>Algeria</td>\n",
       "    </tr>\n",
       "    <tr>\n",
       "      <th>3270</th>\n",
       "      <td>Andorra</td>\n",
       "    </tr>\n",
       "    <tr>\n",
       "      <th>4360</th>\n",
       "      <td>Angola</td>\n",
       "    </tr>\n",
       "    <tr>\n",
       "      <th>...</th>\n",
       "      <td>...</td>\n",
       "    </tr>\n",
       "    <tr>\n",
       "      <th>308470</th>\n",
       "      <td>Vietnam</td>\n",
       "    </tr>\n",
       "    <tr>\n",
       "      <th>309560</th>\n",
       "      <td>West Bank and Gaza</td>\n",
       "    </tr>\n",
       "    <tr>\n",
       "      <th>310650</th>\n",
       "      <td>Winter Olympics 2022</td>\n",
       "    </tr>\n",
       "    <tr>\n",
       "      <th>311740</th>\n",
       "      <td>Yemen</td>\n",
       "    </tr>\n",
       "    <tr>\n",
       "      <th>312830</th>\n",
       "      <td>Zambia</td>\n",
       "    </tr>\n",
       "  </tbody>\n",
       "</table>\n",
       "<p>200 rows × 1 columns</p>\n",
       "</div>"
      ],
      "text/plain": [
       "                     country\n",
       "0                Afghanistan\n",
       "1090                 Albania\n",
       "2180                 Algeria\n",
       "3270                 Andorra\n",
       "4360                  Angola\n",
       "...                      ...\n",
       "308470               Vietnam\n",
       "309560    West Bank and Gaza\n",
       "310650  Winter Olympics 2022\n",
       "311740                 Yemen\n",
       "312830                Zambia\n",
       "\n",
       "[200 rows x 1 columns]"
      ]
     },
     "execution_count": 11,
     "metadata": {},
     "output_type": "execute_result"
    }
   ],
   "source": [
    "(covid_data\n",
    "    .reset_index()\n",
    "    .filter(['country'])\n",
    "    .drop_duplicates()\n",
    "    .head(n = 200)\n",
    ")"
   ]
  },
  {
   "cell_type": "code",
   "execution_count": 12,
   "metadata": {},
   "outputs": [],
   "source": [
    "pd.reset_option('display.max_rows')"
   ]
  },
  {
   "cell_type": "code",
   "execution_count": 13,
   "metadata": {},
   "outputs": [
    {
     "data": {
      "text/html": [
       "<div>\n",
       "<style scoped>\n",
       "    .dataframe tbody tr th:only-of-type {\n",
       "        vertical-align: middle;\n",
       "    }\n",
       "\n",
       "    .dataframe tbody tr th {\n",
       "        vertical-align: top;\n",
       "    }\n",
       "\n",
       "    .dataframe thead th {\n",
       "        text-align: right;\n",
       "    }\n",
       "</style>\n",
       "<table border=\"1\" class=\"dataframe\">\n",
       "  <thead>\n",
       "    <tr style=\"text-align: right;\">\n",
       "      <th></th>\n",
       "      <th>subregion</th>\n",
       "      <th>date</th>\n",
       "      <th>lat</th>\n",
       "      <th>long</th>\n",
       "      <th>confirmed</th>\n",
       "    </tr>\n",
       "    <tr>\n",
       "      <th>country</th>\n",
       "      <th></th>\n",
       "      <th></th>\n",
       "      <th></th>\n",
       "      <th></th>\n",
       "      <th></th>\n",
       "    </tr>\n",
       "  </thead>\n",
       "  <tbody>\n",
       "    <tr>\n",
       "      <th>Indonesia</th>\n",
       "      <td>NaN</td>\n",
       "      <td>2020-01-22</td>\n",
       "      <td>-0.7893</td>\n",
       "      <td>113.9213</td>\n",
       "      <td>0</td>\n",
       "    </tr>\n",
       "    <tr>\n",
       "      <th>Indonesia</th>\n",
       "      <td>NaN</td>\n",
       "      <td>2020-01-23</td>\n",
       "      <td>-0.7893</td>\n",
       "      <td>113.9213</td>\n",
       "      <td>0</td>\n",
       "    </tr>\n",
       "    <tr>\n",
       "      <th>Indonesia</th>\n",
       "      <td>NaN</td>\n",
       "      <td>2020-01-24</td>\n",
       "      <td>-0.7893</td>\n",
       "      <td>113.9213</td>\n",
       "      <td>0</td>\n",
       "    </tr>\n",
       "    <tr>\n",
       "      <th>Indonesia</th>\n",
       "      <td>NaN</td>\n",
       "      <td>2020-01-25</td>\n",
       "      <td>-0.7893</td>\n",
       "      <td>113.9213</td>\n",
       "      <td>0</td>\n",
       "    </tr>\n",
       "    <tr>\n",
       "      <th>Indonesia</th>\n",
       "      <td>NaN</td>\n",
       "      <td>2020-01-26</td>\n",
       "      <td>-0.7893</td>\n",
       "      <td>113.9213</td>\n",
       "      <td>0</td>\n",
       "    </tr>\n",
       "    <tr>\n",
       "      <th>...</th>\n",
       "      <td>...</td>\n",
       "      <td>...</td>\n",
       "      <td>...</td>\n",
       "      <td>...</td>\n",
       "      <td>...</td>\n",
       "    </tr>\n",
       "    <tr>\n",
       "      <th>Indonesia</th>\n",
       "      <td>NaN</td>\n",
       "      <td>2023-01-11</td>\n",
       "      <td>-0.7893</td>\n",
       "      <td>113.9213</td>\n",
       "      <td>6724683</td>\n",
       "    </tr>\n",
       "    <tr>\n",
       "      <th>Indonesia</th>\n",
       "      <td>NaN</td>\n",
       "      <td>2023-01-12</td>\n",
       "      <td>-0.7893</td>\n",
       "      <td>113.9213</td>\n",
       "      <td>6725095</td>\n",
       "    </tr>\n",
       "    <tr>\n",
       "      <th>Indonesia</th>\n",
       "      <td>NaN</td>\n",
       "      <td>2023-01-13</td>\n",
       "      <td>-0.7893</td>\n",
       "      <td>113.9213</td>\n",
       "      <td>6725458</td>\n",
       "    </tr>\n",
       "    <tr>\n",
       "      <th>Indonesia</th>\n",
       "      <td>NaN</td>\n",
       "      <td>2023-01-14</td>\n",
       "      <td>-0.7893</td>\n",
       "      <td>113.9213</td>\n",
       "      <td>6725847</td>\n",
       "    </tr>\n",
       "    <tr>\n",
       "      <th>Indonesia</th>\n",
       "      <td>NaN</td>\n",
       "      <td>2023-01-15</td>\n",
       "      <td>-0.7893</td>\n",
       "      <td>113.9213</td>\n",
       "      <td>6726086</td>\n",
       "    </tr>\n",
       "  </tbody>\n",
       "</table>\n",
       "<p>1090 rows × 5 columns</p>\n",
       "</div>"
      ],
      "text/plain": [
       "          subregion       date     lat      long  confirmed\n",
       "country                                                    \n",
       "Indonesia       NaN 2020-01-22 -0.7893  113.9213          0\n",
       "Indonesia       NaN 2020-01-23 -0.7893  113.9213          0\n",
       "Indonesia       NaN 2020-01-24 -0.7893  113.9213          0\n",
       "Indonesia       NaN 2020-01-25 -0.7893  113.9213          0\n",
       "Indonesia       NaN 2020-01-26 -0.7893  113.9213          0\n",
       "...             ...        ...     ...       ...        ...\n",
       "Indonesia       NaN 2023-01-11 -0.7893  113.9213    6724683\n",
       "Indonesia       NaN 2023-01-12 -0.7893  113.9213    6725095\n",
       "Indonesia       NaN 2023-01-13 -0.7893  113.9213    6725458\n",
       "Indonesia       NaN 2023-01-14 -0.7893  113.9213    6725847\n",
       "Indonesia       NaN 2023-01-15 -0.7893  113.9213    6726086\n",
       "\n",
       "[1090 rows x 5 columns]"
      ]
     },
     "execution_count": 13,
     "metadata": {},
     "output_type": "execute_result"
    }
   ],
   "source": [
    "covid_data.loc['Indonesia']"
   ]
  },
  {
   "cell_type": "code",
   "execution_count": 14,
   "metadata": {},
   "outputs": [],
   "source": [
    "def covid_rename_columns(input_data):\n",
    "    output_data = input_data.rename(\n",
    "                              columns = {'Province/State':'subregion'\n",
    "                                         ,'Country/Region':'country'\n",
    "                                         ,'Lat':'lat'\n",
    "                                         ,'Long':'long'\n",
    "                                         }\n",
    "                              )\n",
    "    return(output_data)"
   ]
  },
  {
   "cell_type": "code",
   "execution_count": 15,
   "metadata": {},
   "outputs": [],
   "source": [
    "def covid_fill_missing(input_data):\n",
    "    output_data = input_data.fillna(value = {'subregion':''})\n",
    "    return(output_data)"
   ]
  },
  {
   "cell_type": "code",
   "execution_count": 16,
   "metadata": {},
   "outputs": [],
   "source": [
    "def covid_melt_data(input_data, value_var_name):\n",
    "    output_data = input_data.melt(id_vars = ['country','subregion','lat','long']\n",
    "                                  ,var_name = 'date_RAW'\n",
    "                                  ,value_name = value_var_name\n",
    "                                  )\n",
    "    return(output_data)"
   ]
  },
  {
   "cell_type": "code",
   "execution_count": 17,
   "metadata": {},
   "outputs": [],
   "source": [
    "def covid_convert_dates(input_data):\n",
    "    output_data = input_data.assign(\n",
    "         date = pd.to_datetime(input_data.date_RAW, format='%m/%d/%y')\n",
    "         )\n",
    "    output_data.drop(columns = ['date_RAW'], inplace = True)\n",
    "    return(output_data)"
   ]
  },
  {
   "cell_type": "code",
   "execution_count": 18,
   "metadata": {},
   "outputs": [],
   "source": [
    "def covid_rearrange_data(input_data,value_var_name):\n",
    "    output_data = (input_data\n",
    "                   .filter(['country', 'subregion', 'date', 'lat', 'long', value_var_name])\n",
    "                   .sort_values(['country','subregion','date','lat','long'])\n",
    "                   .reset_index(drop = True)\n",
    "                   )\n",
    "    return(output_data)"
   ]
  },
  {
   "cell_type": "code",
   "execution_count": 19,
   "metadata": {},
   "outputs": [],
   "source": [
    "def covid_get_data(input_url, value_var_name):\n",
    "    covid_data_inprocess = pd.read_csv(input_url)\n",
    "    covid_data_inprocess = covid_rename_columns(covid_data_inprocess)\n",
    "    covid_data_inprocess = covid_fill_missing(covid_data_inprocess)\n",
    "    covid_data_inprocess = covid_melt_data(covid_data_inprocess,value_var_name)\n",
    "    covid_data_inprocess = covid_convert_dates(covid_data_inprocess)\n",
    "    covid_data_inprocess = covid_rearrange_data(covid_data_inprocess, value_var_name)\n",
    "    return(covid_data_inprocess)"
   ]
  },
  {
   "cell_type": "code",
   "execution_count": 20,
   "metadata": {},
   "outputs": [],
   "source": [
    "url_confirmed = 'https://raw.githubusercontent.com/CSSEGISandData/COVID-19/master/csse_covid_19_data/csse_covid_19_time_series/time_series_covid19_confirmed_global.csv'\n",
    "url_deaths = 'https://raw.githubusercontent.com/CSSEGISandData/COVID-19/master/csse_covid_19_data/csse_covid_19_time_series/time_series_covid19_deaths_global.csv'\n",
    "\n",
    "\n",
    "covid_confirmed = covid_get_data(url_confirmed,'confirmed')\n",
    "covid_deaths = covid_get_data(url_deaths,'dead')"
   ]
  },
  {
   "cell_type": "code",
   "execution_count": 21,
   "metadata": {},
   "outputs": [
    {
     "data": {
      "text/plain": [
       "315010"
      ]
     },
     "execution_count": 21,
     "metadata": {},
     "output_type": "execute_result"
    }
   ],
   "source": [
    "len(covid_confirmed) # 17204\n",
    "len(covid_deaths)    "
   ]
  },
  {
   "cell_type": "code",
   "execution_count": 22,
   "metadata": {},
   "outputs": [],
   "source": [
    "covid_deaths.drop(columns = ['lat','long'], inplace = True)"
   ]
  },
  {
   "cell_type": "code",
   "execution_count": 23,
   "metadata": {},
   "outputs": [],
   "source": [
    "covid_data = (covid_confirmed\n",
    "                .merge(covid_deaths, on = ['country','subregion','date'], how = 'left')\n",
    "             )"
   ]
  },
  {
   "cell_type": "code",
   "execution_count": 24,
   "metadata": {},
   "outputs": [
    {
     "name": "stdout",
     "output_type": "stream",
     "text": [
      "            country subregion       date        lat       long  confirmed  \\\n",
      "0       Afghanistan           2020-01-22  33.939110  67.709953          0   \n",
      "1       Afghanistan           2020-01-23  33.939110  67.709953          0   \n",
      "2       Afghanistan           2020-01-24  33.939110  67.709953          0   \n",
      "3       Afghanistan           2020-01-25  33.939110  67.709953          0   \n",
      "4       Afghanistan           2020-01-26  33.939110  67.709953          0   \n",
      "...             ...       ...        ...        ...        ...        ...   \n",
      "315005     Zimbabwe           2023-01-11 -19.015438  29.154857     259981   \n",
      "315006     Zimbabwe           2023-01-12 -19.015438  29.154857     259981   \n",
      "315007     Zimbabwe           2023-01-13 -19.015438  29.154857     259981   \n",
      "315008     Zimbabwe           2023-01-14 -19.015438  29.154857     259981   \n",
      "315009     Zimbabwe           2023-01-15 -19.015438  29.154857     259981   \n",
      "\n",
      "        dead  \n",
      "0          0  \n",
      "1          0  \n",
      "2          0  \n",
      "3          0  \n",
      "4          0  \n",
      "...      ...  \n",
      "315005  5637  \n",
      "315006  5637  \n",
      "315007  5637  \n",
      "315008  5637  \n",
      "315009  5637  \n",
      "\n",
      "[315010 rows x 7 columns]\n"
     ]
    }
   ],
   "source": [
    "print(covid_data)"
   ]
  },
  {
   "cell_type": "code",
   "execution_count": 25,
   "metadata": {},
   "outputs": [],
   "source": [
    "#making for specifically indonesia\n",
    "covidDF=(covid_data.query('country==\"Indonesia\"').reset_index(drop=True))"
   ]
  },
  {
   "cell_type": "code",
   "execution_count": 26,
   "metadata": {},
   "outputs": [],
   "source": [
    "covidDF.drop('lat', inplace=True, axis=1)\n",
    "covidDF.drop('long', inplace=True, axis=1)\n",
    "covidDF.drop('subregion', inplace=True, axis=1)"
   ]
  },
  {
   "cell_type": "code",
   "execution_count": 27,
   "metadata": {},
   "outputs": [],
   "source": [
    "covidDF=(covidDF.assign(new_cases=covidDF.confirmed.diff()))\n",
    "covidDF=(covidDF.assign(death_cases=covidDF.dead.diff()))"
   ]
  },
  {
   "cell_type": "code",
   "execution_count": 28,
   "metadata": {},
   "outputs": [
    {
     "data": {
      "text/html": [
       "<div>\n",
       "<style scoped>\n",
       "    .dataframe tbody tr th:only-of-type {\n",
       "        vertical-align: middle;\n",
       "    }\n",
       "\n",
       "    .dataframe tbody tr th {\n",
       "        vertical-align: top;\n",
       "    }\n",
       "\n",
       "    .dataframe thead th {\n",
       "        text-align: right;\n",
       "    }\n",
       "</style>\n",
       "<table border=\"1\" class=\"dataframe\">\n",
       "  <thead>\n",
       "    <tr style=\"text-align: right;\">\n",
       "      <th></th>\n",
       "      <th>country</th>\n",
       "      <th>date</th>\n",
       "      <th>confirmed</th>\n",
       "      <th>dead</th>\n",
       "      <th>new_cases</th>\n",
       "      <th>death_cases</th>\n",
       "    </tr>\n",
       "  </thead>\n",
       "  <tbody>\n",
       "    <tr>\n",
       "      <th>0</th>\n",
       "      <td>Indonesia</td>\n",
       "      <td>2020-01-22</td>\n",
       "      <td>0</td>\n",
       "      <td>0</td>\n",
       "      <td>NaN</td>\n",
       "      <td>NaN</td>\n",
       "    </tr>\n",
       "    <tr>\n",
       "      <th>1</th>\n",
       "      <td>Indonesia</td>\n",
       "      <td>2020-01-23</td>\n",
       "      <td>0</td>\n",
       "      <td>0</td>\n",
       "      <td>0.0</td>\n",
       "      <td>0.0</td>\n",
       "    </tr>\n",
       "    <tr>\n",
       "      <th>2</th>\n",
       "      <td>Indonesia</td>\n",
       "      <td>2020-01-24</td>\n",
       "      <td>0</td>\n",
       "      <td>0</td>\n",
       "      <td>0.0</td>\n",
       "      <td>0.0</td>\n",
       "    </tr>\n",
       "    <tr>\n",
       "      <th>3</th>\n",
       "      <td>Indonesia</td>\n",
       "      <td>2020-01-25</td>\n",
       "      <td>0</td>\n",
       "      <td>0</td>\n",
       "      <td>0.0</td>\n",
       "      <td>0.0</td>\n",
       "    </tr>\n",
       "    <tr>\n",
       "      <th>4</th>\n",
       "      <td>Indonesia</td>\n",
       "      <td>2020-01-26</td>\n",
       "      <td>0</td>\n",
       "      <td>0</td>\n",
       "      <td>0.0</td>\n",
       "      <td>0.0</td>\n",
       "    </tr>\n",
       "    <tr>\n",
       "      <th>...</th>\n",
       "      <td>...</td>\n",
       "      <td>...</td>\n",
       "      <td>...</td>\n",
       "      <td>...</td>\n",
       "      <td>...</td>\n",
       "      <td>...</td>\n",
       "    </tr>\n",
       "    <tr>\n",
       "      <th>1085</th>\n",
       "      <td>Indonesia</td>\n",
       "      <td>2023-01-11</td>\n",
       "      <td>6724683</td>\n",
       "      <td>160705</td>\n",
       "      <td>402.0</td>\n",
       "      <td>8.0</td>\n",
       "    </tr>\n",
       "    <tr>\n",
       "      <th>1086</th>\n",
       "      <td>Indonesia</td>\n",
       "      <td>2023-01-12</td>\n",
       "      <td>6725095</td>\n",
       "      <td>160711</td>\n",
       "      <td>412.0</td>\n",
       "      <td>6.0</td>\n",
       "    </tr>\n",
       "    <tr>\n",
       "      <th>1087</th>\n",
       "      <td>Indonesia</td>\n",
       "      <td>2023-01-13</td>\n",
       "      <td>6725458</td>\n",
       "      <td>160719</td>\n",
       "      <td>363.0</td>\n",
       "      <td>8.0</td>\n",
       "    </tr>\n",
       "    <tr>\n",
       "      <th>1088</th>\n",
       "      <td>Indonesia</td>\n",
       "      <td>2023-01-14</td>\n",
       "      <td>6725847</td>\n",
       "      <td>160724</td>\n",
       "      <td>389.0</td>\n",
       "      <td>5.0</td>\n",
       "    </tr>\n",
       "    <tr>\n",
       "      <th>1089</th>\n",
       "      <td>Indonesia</td>\n",
       "      <td>2023-01-15</td>\n",
       "      <td>6726086</td>\n",
       "      <td>160727</td>\n",
       "      <td>239.0</td>\n",
       "      <td>3.0</td>\n",
       "    </tr>\n",
       "  </tbody>\n",
       "</table>\n",
       "<p>1090 rows × 6 columns</p>\n",
       "</div>"
      ],
      "text/plain": [
       "        country       date  confirmed    dead  new_cases  death_cases\n",
       "0     Indonesia 2020-01-22          0       0        NaN          NaN\n",
       "1     Indonesia 2020-01-23          0       0        0.0          0.0\n",
       "2     Indonesia 2020-01-24          0       0        0.0          0.0\n",
       "3     Indonesia 2020-01-25          0       0        0.0          0.0\n",
       "4     Indonesia 2020-01-26          0       0        0.0          0.0\n",
       "...         ...        ...        ...     ...        ...          ...\n",
       "1085  Indonesia 2023-01-11    6724683  160705      402.0          8.0\n",
       "1086  Indonesia 2023-01-12    6725095  160711      412.0          6.0\n",
       "1087  Indonesia 2023-01-13    6725458  160719      363.0          8.0\n",
       "1088  Indonesia 2023-01-14    6725847  160724      389.0          5.0\n",
       "1089  Indonesia 2023-01-15    6726086  160727      239.0          3.0\n",
       "\n",
       "[1090 rows x 6 columns]"
      ]
     },
     "execution_count": 28,
     "metadata": {},
     "output_type": "execute_result"
    }
   ],
   "source": [
    "covidDF"
   ]
  },
  {
   "cell_type": "code",
   "execution_count": 29,
   "metadata": {},
   "outputs": [
    {
     "data": {
      "text/html": [
       "<div>\n",
       "<style scoped>\n",
       "    .dataframe tbody tr th:only-of-type {\n",
       "        vertical-align: middle;\n",
       "    }\n",
       "\n",
       "    .dataframe tbody tr th {\n",
       "        vertical-align: top;\n",
       "    }\n",
       "\n",
       "    .dataframe thead th {\n",
       "        text-align: right;\n",
       "    }\n",
       "</style>\n",
       "<table border=\"1\" class=\"dataframe\">\n",
       "  <thead>\n",
       "    <tr style=\"text-align: right;\">\n",
       "      <th></th>\n",
       "      <th>country</th>\n",
       "      <th>date</th>\n",
       "      <th>confirmed</th>\n",
       "      <th>dead</th>\n",
       "      <th>new_cases</th>\n",
       "      <th>death_cases</th>\n",
       "    </tr>\n",
       "  </thead>\n",
       "  <tbody>\n",
       "    <tr>\n",
       "      <th>0</th>\n",
       "      <td>Indonesia</td>\n",
       "      <td>2020-01-22</td>\n",
       "      <td>0</td>\n",
       "      <td>0</td>\n",
       "      <td>NaN</td>\n",
       "      <td>NaN</td>\n",
       "    </tr>\n",
       "    <tr>\n",
       "      <th>1</th>\n",
       "      <td>Indonesia</td>\n",
       "      <td>2020-01-23</td>\n",
       "      <td>0</td>\n",
       "      <td>0</td>\n",
       "      <td>0.0</td>\n",
       "      <td>0.0</td>\n",
       "    </tr>\n",
       "    <tr>\n",
       "      <th>2</th>\n",
       "      <td>Indonesia</td>\n",
       "      <td>2020-01-24</td>\n",
       "      <td>0</td>\n",
       "      <td>0</td>\n",
       "      <td>0.0</td>\n",
       "      <td>0.0</td>\n",
       "    </tr>\n",
       "    <tr>\n",
       "      <th>3</th>\n",
       "      <td>Indonesia</td>\n",
       "      <td>2020-01-25</td>\n",
       "      <td>0</td>\n",
       "      <td>0</td>\n",
       "      <td>0.0</td>\n",
       "      <td>0.0</td>\n",
       "    </tr>\n",
       "    <tr>\n",
       "      <th>4</th>\n",
       "      <td>Indonesia</td>\n",
       "      <td>2020-01-26</td>\n",
       "      <td>0</td>\n",
       "      <td>0</td>\n",
       "      <td>0.0</td>\n",
       "      <td>0.0</td>\n",
       "    </tr>\n",
       "    <tr>\n",
       "      <th>...</th>\n",
       "      <td>...</td>\n",
       "      <td>...</td>\n",
       "      <td>...</td>\n",
       "      <td>...</td>\n",
       "      <td>...</td>\n",
       "      <td>...</td>\n",
       "    </tr>\n",
       "    <tr>\n",
       "      <th>1085</th>\n",
       "      <td>Indonesia</td>\n",
       "      <td>2023-01-11</td>\n",
       "      <td>6724683</td>\n",
       "      <td>160705</td>\n",
       "      <td>402.0</td>\n",
       "      <td>8.0</td>\n",
       "    </tr>\n",
       "    <tr>\n",
       "      <th>1086</th>\n",
       "      <td>Indonesia</td>\n",
       "      <td>2023-01-12</td>\n",
       "      <td>6725095</td>\n",
       "      <td>160711</td>\n",
       "      <td>412.0</td>\n",
       "      <td>6.0</td>\n",
       "    </tr>\n",
       "    <tr>\n",
       "      <th>1087</th>\n",
       "      <td>Indonesia</td>\n",
       "      <td>2023-01-13</td>\n",
       "      <td>6725458</td>\n",
       "      <td>160719</td>\n",
       "      <td>363.0</td>\n",
       "      <td>8.0</td>\n",
       "    </tr>\n",
       "    <tr>\n",
       "      <th>1088</th>\n",
       "      <td>Indonesia</td>\n",
       "      <td>2023-01-14</td>\n",
       "      <td>6725847</td>\n",
       "      <td>160724</td>\n",
       "      <td>389.0</td>\n",
       "      <td>5.0</td>\n",
       "    </tr>\n",
       "    <tr>\n",
       "      <th>1089</th>\n",
       "      <td>Indonesia</td>\n",
       "      <td>2023-01-15</td>\n",
       "      <td>6726086</td>\n",
       "      <td>160727</td>\n",
       "      <td>239.0</td>\n",
       "      <td>3.0</td>\n",
       "    </tr>\n",
       "  </tbody>\n",
       "</table>\n",
       "<p>1090 rows × 6 columns</p>\n",
       "</div>"
      ],
      "text/plain": [
       "        country       date  confirmed    dead  new_cases  death_cases\n",
       "0     Indonesia 2020-01-22          0       0        NaN          NaN\n",
       "1     Indonesia 2020-01-23          0       0        0.0          0.0\n",
       "2     Indonesia 2020-01-24          0       0        0.0          0.0\n",
       "3     Indonesia 2020-01-25          0       0        0.0          0.0\n",
       "4     Indonesia 2020-01-26          0       0        0.0          0.0\n",
       "...         ...        ...        ...     ...        ...          ...\n",
       "1085  Indonesia 2023-01-11    6724683  160705      402.0          8.0\n",
       "1086  Indonesia 2023-01-12    6725095  160711      412.0          6.0\n",
       "1087  Indonesia 2023-01-13    6725458  160719      363.0          8.0\n",
       "1088  Indonesia 2023-01-14    6725847  160724      389.0          5.0\n",
       "1089  Indonesia 2023-01-15    6726086  160727      239.0          3.0\n",
       "\n",
       "[1090 rows x 6 columns]"
      ]
     },
     "execution_count": 29,
     "metadata": {},
     "output_type": "execute_result"
    }
   ],
   "source": [
    "#changing the date from the data to date itself\n",
    "covidDF[\"date\"] = pd.to_datetime(covidDF[\"date\"], format = \"%Y-%m-%d\")\n",
    "covidDF"
   ]
  },
  {
   "cell_type": "code",
   "execution_count": 30,
   "metadata": {},
   "outputs": [
    {
     "data": {
      "text/html": [
       "<div>\n",
       "<style scoped>\n",
       "    .dataframe tbody tr th:only-of-type {\n",
       "        vertical-align: middle;\n",
       "    }\n",
       "\n",
       "    .dataframe tbody tr th {\n",
       "        vertical-align: top;\n",
       "    }\n",
       "\n",
       "    .dataframe thead th {\n",
       "        text-align: right;\n",
       "    }\n",
       "</style>\n",
       "<table border=\"1\" class=\"dataframe\">\n",
       "  <thead>\n",
       "    <tr style=\"text-align: right;\">\n",
       "      <th></th>\n",
       "      <th>country</th>\n",
       "      <th>date</th>\n",
       "      <th>confirmed</th>\n",
       "      <th>dead</th>\n",
       "      <th>new_cases</th>\n",
       "      <th>death_cases</th>\n",
       "    </tr>\n",
       "  </thead>\n",
       "  <tbody>\n",
       "    <tr>\n",
       "      <th>1</th>\n",
       "      <td>Indonesia</td>\n",
       "      <td>2020-01-23</td>\n",
       "      <td>0</td>\n",
       "      <td>0</td>\n",
       "      <td>0.0</td>\n",
       "      <td>0.0</td>\n",
       "    </tr>\n",
       "    <tr>\n",
       "      <th>2</th>\n",
       "      <td>Indonesia</td>\n",
       "      <td>2020-01-24</td>\n",
       "      <td>0</td>\n",
       "      <td>0</td>\n",
       "      <td>0.0</td>\n",
       "      <td>0.0</td>\n",
       "    </tr>\n",
       "    <tr>\n",
       "      <th>3</th>\n",
       "      <td>Indonesia</td>\n",
       "      <td>2020-01-25</td>\n",
       "      <td>0</td>\n",
       "      <td>0</td>\n",
       "      <td>0.0</td>\n",
       "      <td>0.0</td>\n",
       "    </tr>\n",
       "    <tr>\n",
       "      <th>4</th>\n",
       "      <td>Indonesia</td>\n",
       "      <td>2020-01-26</td>\n",
       "      <td>0</td>\n",
       "      <td>0</td>\n",
       "      <td>0.0</td>\n",
       "      <td>0.0</td>\n",
       "    </tr>\n",
       "    <tr>\n",
       "      <th>5</th>\n",
       "      <td>Indonesia</td>\n",
       "      <td>2020-01-27</td>\n",
       "      <td>0</td>\n",
       "      <td>0</td>\n",
       "      <td>0.0</td>\n",
       "      <td>0.0</td>\n",
       "    </tr>\n",
       "    <tr>\n",
       "      <th>...</th>\n",
       "      <td>...</td>\n",
       "      <td>...</td>\n",
       "      <td>...</td>\n",
       "      <td>...</td>\n",
       "      <td>...</td>\n",
       "      <td>...</td>\n",
       "    </tr>\n",
       "    <tr>\n",
       "      <th>1085</th>\n",
       "      <td>Indonesia</td>\n",
       "      <td>2023-01-11</td>\n",
       "      <td>6724683</td>\n",
       "      <td>160705</td>\n",
       "      <td>402.0</td>\n",
       "      <td>8.0</td>\n",
       "    </tr>\n",
       "    <tr>\n",
       "      <th>1086</th>\n",
       "      <td>Indonesia</td>\n",
       "      <td>2023-01-12</td>\n",
       "      <td>6725095</td>\n",
       "      <td>160711</td>\n",
       "      <td>412.0</td>\n",
       "      <td>6.0</td>\n",
       "    </tr>\n",
       "    <tr>\n",
       "      <th>1087</th>\n",
       "      <td>Indonesia</td>\n",
       "      <td>2023-01-13</td>\n",
       "      <td>6725458</td>\n",
       "      <td>160719</td>\n",
       "      <td>363.0</td>\n",
       "      <td>8.0</td>\n",
       "    </tr>\n",
       "    <tr>\n",
       "      <th>1088</th>\n",
       "      <td>Indonesia</td>\n",
       "      <td>2023-01-14</td>\n",
       "      <td>6725847</td>\n",
       "      <td>160724</td>\n",
       "      <td>389.0</td>\n",
       "      <td>5.0</td>\n",
       "    </tr>\n",
       "    <tr>\n",
       "      <th>1089</th>\n",
       "      <td>Indonesia</td>\n",
       "      <td>2023-01-15</td>\n",
       "      <td>6726086</td>\n",
       "      <td>160727</td>\n",
       "      <td>239.0</td>\n",
       "      <td>3.0</td>\n",
       "    </tr>\n",
       "  </tbody>\n",
       "</table>\n",
       "<p>1089 rows × 6 columns</p>\n",
       "</div>"
      ],
      "text/plain": [
       "        country       date  confirmed    dead  new_cases  death_cases\n",
       "1     Indonesia 2020-01-23          0       0        0.0          0.0\n",
       "2     Indonesia 2020-01-24          0       0        0.0          0.0\n",
       "3     Indonesia 2020-01-25          0       0        0.0          0.0\n",
       "4     Indonesia 2020-01-26          0       0        0.0          0.0\n",
       "5     Indonesia 2020-01-27          0       0        0.0          0.0\n",
       "...         ...        ...        ...     ...        ...          ...\n",
       "1085  Indonesia 2023-01-11    6724683  160705      402.0          8.0\n",
       "1086  Indonesia 2023-01-12    6725095  160711      412.0          6.0\n",
       "1087  Indonesia 2023-01-13    6725458  160719      363.0          8.0\n",
       "1088  Indonesia 2023-01-14    6725847  160724      389.0          5.0\n",
       "1089  Indonesia 2023-01-15    6726086  160727      239.0          3.0\n",
       "\n",
       "[1089 rows x 6 columns]"
      ]
     },
     "execution_count": 30,
     "metadata": {},
     "output_type": "execute_result"
    }
   ],
   "source": [
    "#dropping all the nan values\n",
    "covidDF=covidDF.dropna()\n",
    "covidDF"
   ]
  },
  {
   "cell_type": "code",
   "execution_count": 31,
   "metadata": {},
   "outputs": [
    {
     "data": {
      "text/plain": [
       "[<matplotlib.lines.Line2D at 0x1baabc3e140>]"
      ]
     },
     "execution_count": 31,
     "metadata": {},
     "output_type": "execute_result"
    },
    {
     "data": {
      "image/png": "[encoded data removed]",
      "text/plain": [
       "<Figure size 640x480 with 1 Axes>"
      ]
     },
     "metadata": {},
     "output_type": "display_data"
    }
   ],
   "source": [
    "plt.plot(covidDF['date'],covidDF['new_cases'])\n",
    "plt.plot(covidDF['date'],covidDF['death_cases'],color='red')"
   ]
  },
  {
   "attachments": {},
   "cell_type": "markdown",
   "metadata": {},
   "source": [
    "Supervised learning "
   ]
  },
  {
   "cell_type": "code",
   "execution_count": 32,
   "metadata": {},
   "outputs": [
    {
     "data": {
      "text/html": [
       "<div>\n",
       "<style scoped>\n",
       "    .dataframe tbody tr th:only-of-type {\n",
       "        vertical-align: middle;\n",
       "    }\n",
       "\n",
       "    .dataframe tbody tr th {\n",
       "        vertical-align: top;\n",
       "    }\n",
       "\n",
       "    .dataframe thead th {\n",
       "        text-align: right;\n",
       "    }\n",
       "</style>\n",
       "<table border=\"1\" class=\"dataframe\">\n",
       "  <thead>\n",
       "    <tr style=\"text-align: right;\">\n",
       "      <th></th>\n",
       "      <th>confirmed</th>\n",
       "      <th>dead</th>\n",
       "    </tr>\n",
       "  </thead>\n",
       "  <tbody>\n",
       "    <tr>\n",
       "      <th>702</th>\n",
       "      <td>4261412</td>\n",
       "      <td>144047</td>\n",
       "    </tr>\n",
       "    <tr>\n",
       "      <th>703</th>\n",
       "      <td>4261667</td>\n",
       "      <td>144053</td>\n",
       "    </tr>\n",
       "    <tr>\n",
       "      <th>704</th>\n",
       "      <td>4261667</td>\n",
       "      <td>144053</td>\n",
       "    </tr>\n",
       "    <tr>\n",
       "      <th>705</th>\n",
       "      <td>4261879</td>\n",
       "      <td>144063</td>\n",
       "    </tr>\n",
       "    <tr>\n",
       "      <th>706</th>\n",
       "      <td>4262157</td>\n",
       "      <td>144071</td>\n",
       "    </tr>\n",
       "    <tr>\n",
       "      <th>...</th>\n",
       "      <td>...</td>\n",
       "      <td>...</td>\n",
       "    </tr>\n",
       "    <tr>\n",
       "      <th>1066</th>\n",
       "      <td>6714802</td>\n",
       "      <td>160507</td>\n",
       "    </tr>\n",
       "    <tr>\n",
       "      <th>1067</th>\n",
       "      <td>6715586</td>\n",
       "      <td>160524</td>\n",
       "    </tr>\n",
       "    <tr>\n",
       "      <th>1068</th>\n",
       "      <td>6716124</td>\n",
       "      <td>160537</td>\n",
       "    </tr>\n",
       "    <tr>\n",
       "      <th>1069</th>\n",
       "      <td>6716592</td>\n",
       "      <td>160551</td>\n",
       "    </tr>\n",
       "    <tr>\n",
       "      <th>1070</th>\n",
       "      <td>6717395</td>\n",
       "      <td>160560</td>\n",
       "    </tr>\n",
       "  </tbody>\n",
       "</table>\n",
       "<p>369 rows × 2 columns</p>\n",
       "</div>"
      ],
      "text/plain": [
       "      confirmed    dead\n",
       "702     4261412  144047\n",
       "703     4261667  144053\n",
       "704     4261667  144053\n",
       "705     4261879  144063\n",
       "706     4262157  144071\n",
       "...         ...     ...\n",
       "1066    6714802  160507\n",
       "1067    6715586  160524\n",
       "1068    6716124  160537\n",
       "1069    6716592  160551\n",
       "1070    6717395  160560\n",
       "\n",
       "[369 rows x 2 columns]"
      ]
     },
     "execution_count": 32,
     "metadata": {},
     "output_type": "execute_result"
    }
   ],
   "source": [
    "scaler=MinMaxScaler()\n",
    "\n",
    "#getting only the remaining columns\n",
    "confirmed=covidDF.iloc[701:1070, 2]\n",
    "dead=covidDF.iloc[701:1070, 3]\n",
    "Cov_19=pd.DataFrame(confirmed)\n",
    "Cov_19['dead']=dead\n",
    "Cov_19\n"
   ]
  },
  {
   "cell_type": "code",
   "execution_count": 33,
   "metadata": {},
   "outputs": [],
   "source": [
    "\n",
    "totalDataset=scaler.fit_transform(Cov_19[['confirmed','dead']])\n",
    "TotalDataScaled=pd.DataFrame(totalDataset,columns=['confirmed','dead'])"
   ]
  },
  {
   "cell_type": "code",
   "execution_count": 34,
   "metadata": {},
   "outputs": [
    {
     "data": {
      "text/html": [
       "<div>\n",
       "<style scoped>\n",
       "    .dataframe tbody tr th:only-of-type {\n",
       "        vertical-align: middle;\n",
       "    }\n",
       "\n",
       "    .dataframe tbody tr th {\n",
       "        vertical-align: top;\n",
       "    }\n",
       "\n",
       "    .dataframe thead th {\n",
       "        text-align: right;\n",
       "    }\n",
       "</style>\n",
       "<table border=\"1\" class=\"dataframe\">\n",
       "  <thead>\n",
       "    <tr style=\"text-align: right;\">\n",
       "      <th></th>\n",
       "      <th>confirmed</th>\n",
       "      <th>dead</th>\n",
       "    </tr>\n",
       "    <tr>\n",
       "      <th>index</th>\n",
       "      <th></th>\n",
       "      <th></th>\n",
       "    </tr>\n",
       "  </thead>\n",
       "  <tbody>\n",
       "    <tr>\n",
       "      <th>700</th>\n",
       "      <td>0.000000</td>\n",
       "      <td>0.000000</td>\n",
       "    </tr>\n",
       "    <tr>\n",
       "      <th>701</th>\n",
       "      <td>0.000104</td>\n",
       "      <td>0.000363</td>\n",
       "    </tr>\n",
       "    <tr>\n",
       "      <th>702</th>\n",
       "      <td>0.000104</td>\n",
       "      <td>0.000363</td>\n",
       "    </tr>\n",
       "    <tr>\n",
       "      <th>703</th>\n",
       "      <td>0.000190</td>\n",
       "      <td>0.000969</td>\n",
       "    </tr>\n",
       "    <tr>\n",
       "      <th>704</th>\n",
       "      <td>0.000303</td>\n",
       "      <td>0.001453</td>\n",
       "    </tr>\n",
       "    <tr>\n",
       "      <th>...</th>\n",
       "      <td>...</td>\n",
       "      <td>...</td>\n",
       "    </tr>\n",
       "    <tr>\n",
       "      <th>1064</th>\n",
       "      <td>0.998944</td>\n",
       "      <td>0.996790</td>\n",
       "    </tr>\n",
       "    <tr>\n",
       "      <th>1065</th>\n",
       "      <td>0.999263</td>\n",
       "      <td>0.997820</td>\n",
       "    </tr>\n",
       "    <tr>\n",
       "      <th>1066</th>\n",
       "      <td>0.999482</td>\n",
       "      <td>0.998607</td>\n",
       "    </tr>\n",
       "    <tr>\n",
       "      <th>1067</th>\n",
       "      <td>0.999673</td>\n",
       "      <td>0.999455</td>\n",
       "    </tr>\n",
       "    <tr>\n",
       "      <th>1068</th>\n",
       "      <td>1.000000</td>\n",
       "      <td>1.000000</td>\n",
       "    </tr>\n",
       "  </tbody>\n",
       "</table>\n",
       "<p>369 rows × 2 columns</p>\n",
       "</div>"
      ],
      "text/plain": [
       "       confirmed      dead\n",
       "index                     \n",
       "700     0.000000  0.000000\n",
       "701     0.000104  0.000363\n",
       "702     0.000104  0.000363\n",
       "703     0.000190  0.000969\n",
       "704     0.000303  0.001453\n",
       "...          ...       ...\n",
       "1064    0.998944  0.996790\n",
       "1065    0.999263  0.997820\n",
       "1066    0.999482  0.998607\n",
       "1067    0.999673  0.999455\n",
       "1068    1.000000  1.000000\n",
       "\n",
       "[369 rows x 2 columns]"
      ]
     },
     "execution_count": 34,
     "metadata": {},
     "output_type": "execute_result"
    }
   ],
   "source": [
    "array=[]\n",
    "index=TotalDataScaled.index\n",
    "for i in index:\n",
    "    array.append(i+700)\n",
    "\n",
    "TotalDataScaled['index']=array\n",
    "TotalDataScaled=TotalDataScaled.set_index('index')\n",
    "TotalDataScaled"
   ]
  },
  {
   "cell_type": "code",
   "execution_count": 35,
   "metadata": {},
   "outputs": [],
   "source": [
    "yTrain = covidDF.iloc[0:700, 4]\n",
    "xTrain = covidDF.iloc[0:700, 2]\n",
    "\n",
    "yTest = covidDF.iloc[701:1070, 4]\n",
    "xTest = covidDF.iloc[701:1070, 2]\n",
    "\n",
    "xTrain = xTrain.to_numpy()\n",
    "xTest = xTest.to_numpy()\n",
    "\n",
    "xTrain = xTrain.reshape(-1, 1)\n",
    "xTest = xTest.reshape(-1, 1)\n",
    "\n",
    "\n"
   ]
  },
  {
   "cell_type": "code",
   "execution_count": 36,
   "metadata": {},
   "outputs": [
    {
     "data": {
      "text/html": [
       "<style>#sk-container-id-1 {color: black;background-color: white;}#sk-container-id-1 pre{padding: 0;}#sk-container-id-1 div.sk-toggleable {background-color: white;}#sk-container-id-1 label.sk-toggleable__label {cursor: pointer;display: block;width: 100%;margin-bottom: 0;padding: 0.3em;box-sizing: border-box;text-align: center;}#sk-container-id-1 label.sk-toggleable__label-arrow:before {content: \"▸\";float: left;margin-right: 0.25em;color: #696969;}#sk-container-id-1 label.sk-toggleable__label-arrow:hover:before {color: black;}#sk-container-id-1 div.sk-estimator:hover label.sk-toggleable__label-arrow:before {color: black;}#sk-container-id-1 div.sk-toggleable__content {max-height: 0;max-width: 0;overflow: hidden;text-align: left;background-color: #f0f8ff;}#sk-container-id-1 div.sk-toggleable__content pre {margin: 0.2em;color: black;border-radius: 0.25em;background-color: #f0f8ff;}#sk-container-id-1 input.sk-toggleable__control:checked~div.sk-toggleable__content {max-height: 200px;max-width: 100%;overflow: auto;}#sk-container-id-1 input.sk-toggleable__control:checked~label.sk-toggleable__label-arrow:before {content: \"▾\";}#sk-container-id-1 div.sk-estimator input.sk-toggleable__control:checked~label.sk-toggleable__label {background-color: #d4ebff;}#sk-container-id-1 div.sk-label input.sk-toggleable__control:checked~label.sk-toggleable__label {background-color: #d4ebff;}#sk-container-id-1 input.sk-hidden--visually {border: 0;clip: rect(1px 1px 1px 1px);clip: rect(1px, 1px, 1px, 1px);height: 1px;margin: -1px;overflow: hidden;padding: 0;position: absolute;width: 1px;}#sk-container-id-1 div.sk-estimator {font-family: monospace;background-color: #f0f8ff;border: 1px dotted black;border-radius: 0.25em;box-sizing: border-box;margin-bottom: 0.5em;}#sk-container-id-1 div.sk-estimator:hover {background-color: #d4ebff;}#sk-container-id-1 div.sk-parallel-item::after {content: \"\";width: 100%;border-bottom: 1px solid gray;flex-grow: 1;}#sk-container-id-1 div.sk-label:hover label.sk-toggleable__label {background-color: #d4ebff;}#sk-container-id-1 div.sk-serial::before {content: \"\";position: absolute;border-left: 1px solid gray;box-sizing: border-box;top: 0;bottom: 0;left: 50%;z-index: 0;}#sk-container-id-1 div.sk-serial {display: flex;flex-direction: column;align-items: center;background-color: white;padding-right: 0.2em;padding-left: 0.2em;position: relative;}#sk-container-id-1 div.sk-item {position: relative;z-index: 1;}#sk-container-id-1 div.sk-parallel {display: flex;align-items: stretch;justify-content: center;background-color: white;position: relative;}#sk-container-id-1 div.sk-item::before, #sk-container-id-1 div.sk-parallel-item::before {content: \"\";position: absolute;border-left: 1px solid gray;box-sizing: border-box;top: 0;bottom: 0;left: 50%;z-index: -1;}#sk-container-id-1 div.sk-parallel-item {display: flex;flex-direction: column;z-index: 1;position: relative;background-color: white;}#sk-container-id-1 div.sk-parallel-item:first-child::after {align-self: flex-end;width: 50%;}#sk-container-id-1 div.sk-parallel-item:last-child::after {align-self: flex-start;width: 50%;}#sk-container-id-1 div.sk-parallel-item:only-child::after {width: 0;}#sk-container-id-1 div.sk-dashed-wrapped {border: 1px dashed gray;margin: 0 0.4em 0.5em 0.4em;box-sizing: border-box;padding-bottom: 0.4em;background-color: white;}#sk-container-id-1 div.sk-label label {font-family: monospace;font-weight: bold;display: inline-block;line-height: 1.2em;}#sk-container-id-1 div.sk-label-container {text-align: center;}#sk-container-id-1 div.sk-container {/* jupyter's `normalize.less` sets `[hidden] { display: none; }` but bootstrap.min.css set `[hidden] { display: none !important; }` so we also need the `!important` here to be able to override the default hidden behavior on the sphinx rendered scikit-learn.org. See: https://github.com/scikit-learn/scikit-learn/issues/21755 */display: inline-block !important;position: relative;}#sk-container-id-1 div.sk-text-repr-fallback {display: none;}</style><div id=\"sk-container-id-1\" class=\"sk-top-container\"><div class=\"sk-text-repr-fallback\"><pre>SVR(C=0.1, epsilon=1, gamma=1)</pre><b>In a Jupyter environment, please rerun this cell to show the HTML representation or trust the notebook. <br />On GitHub, the HTML representation is unable to render, please try loading this page with nbviewer.org.</b></div><div class=\"sk-container\" hidden><div class=\"sk-item\"><div class=\"sk-estimator sk-toggleable\"><input class=\"sk-toggleable__control sk-hidden--visually\" id=\"sk-estimator-id-1\" type=\"checkbox\" checked><label for=\"sk-estimator-id-1\" class=\"sk-toggleable__label sk-toggleable__label-arrow\">SVR</label><div class=\"sk-toggleable__content\"><pre>SVR(C=0.1, epsilon=1, gamma=1)</pre></div></div></div></div></div>"
      ],
      "text/plain": [
       "SVR(C=0.1, epsilon=1, gamma=1)"
      ]
     },
     "execution_count": 36,
     "metadata": {},
     "output_type": "execute_result"
    }
   ],
   "source": [
    "SVM = SVR(kernel =\"rbf\", gamma = 1, C = 0.1, epsilon = 1)\n",
    "SVM.fit(xTrain,yTrain)"
   ]
  },
  {
   "cell_type": "code",
   "execution_count": 37,
   "metadata": {},
   "outputs": [],
   "source": [
    "yPredict = SVM.predict(xTest)"
   ]
  },
  {
   "cell_type": "code",
   "execution_count": 38,
   "metadata": {},
   "outputs": [
    {
     "data": {
      "text/plain": [
       "5776.783197831978"
      ]
     },
     "execution_count": 38,
     "metadata": {},
     "output_type": "execute_result"
    }
   ],
   "source": [
    "mean_absolute_error(yTest, yPredict)"
   ]
  },
  {
   "cell_type": "code",
   "execution_count": 39,
   "metadata": {},
   "outputs": [
    {
     "data": {
      "text/plain": [
       "array([[0.00000000e+00],\n",
       "       [1.03828080e-04],\n",
       "       [1.03828080e-04],\n",
       "       [1.90147896e-04],\n",
       "       [3.03340862e-04],\n",
       "       [3.82331637e-04],\n",
       "       [4.59286567e-04],\n",
       "       [5.32576976e-04],\n",
       "       [6.44141266e-04],\n",
       "       [7.14988662e-04],\n",
       "       [8.22888432e-04],\n",
       "       [9.44631946e-04],\n",
       "       [1.10912820e-03],\n",
       "       [1.32614924e-03],\n",
       "       [1.53706276e-03],\n",
       "       [1.73209668e-03],\n",
       "       [1.94748905e-03],\n",
       "       [2.13234375e-03],\n",
       "       [2.45889324e-03],\n",
       "       [2.72192438e-03],\n",
       "       [3.04480935e-03],\n",
       "       [3.39090295e-03],\n",
       "       [3.82005902e-03],\n",
       "       [4.16818846e-03],\n",
       "       [4.48252288e-03],\n",
       "       [5.03708698e-03],\n",
       "       [5.74759679e-03],\n",
       "       [6.60916627e-03],\n",
       "       [7.66943419e-03],\n",
       "       [8.97441065e-03],\n",
       "       [1.01653798e-02],\n",
       "       [1.13571633e-02],\n",
       "       [1.33433334e-02],\n",
       "       [1.61975877e-02],\n",
       "       [1.94862912e-02],\n",
       "       [2.35192996e-02],\n",
       "       [2.82375733e-02],\n",
       "       [3.32954259e-02],\n",
       "       [3.74424416e-02],\n",
       "       [4.39656952e-02],\n",
       "       [5.12519834e-02],\n",
       "       [6.23257571e-02],\n",
       "       [7.54410759e-02],\n",
       "       [8.91744772e-02],\n",
       "       [1.03855768e-01],\n",
       "       [1.14491428e-01],\n",
       "       [1.29757006e-01],\n",
       "       [1.48830020e-01],\n",
       "       [1.65368408e-01],\n",
       "       [1.81854272e-01],\n",
       "       [2.04333662e-01],\n",
       "       [2.22463266e-01],\n",
       "       [2.37325340e-01],\n",
       "       [2.60553921e-01],\n",
       "       [2.86905080e-01],\n",
       "       [3.12945977e-01],\n",
       "       [3.37227497e-01],\n",
       "       [3.61406818e-01],\n",
       "       [3.81147997e-01],\n",
       "       [3.95161937e-01],\n",
       "       [4.18570487e-01],\n",
       "       [4.43606491e-01],\n",
       "       [4.66988574e-01],\n",
       "       [4.87121857e-01],\n",
       "       [5.06113438e-01],\n",
       "       [5.20354579e-01],\n",
       "       [5.30555790e-01],\n",
       "       [5.40624263e-01],\n",
       "       [5.57285616e-01],\n",
       "       [5.72456324e-01],\n",
       "       [5.83184004e-01],\n",
       "       [5.95462591e-01],\n",
       "       [6.05587661e-01],\n",
       "       [6.14292933e-01],\n",
       "       [6.26568262e-01],\n",
       "       [6.37291463e-01],\n",
       "       [6.45968641e-01],\n",
       "       [6.52528132e-01],\n",
       "       [6.58594950e-01],\n",
       "       [6.63312002e-01],\n",
       "       [6.67232631e-01],\n",
       "       [6.73099122e-01],\n",
       "       [6.78399647e-01],\n",
       "       [6.83095119e-01],\n",
       "       [6.86974625e-01],\n",
       "       [6.90212025e-01],\n",
       "       [6.92623280e-01],\n",
       "       [6.94536566e-01],\n",
       "       [6.97575675e-01],\n",
       "       [7.00171785e-01],\n",
       "       [7.02536622e-01],\n",
       "       [7.02536622e-01],\n",
       "       [7.02536622e-01],\n",
       "       [7.06219872e-01],\n",
       "       [7.08611990e-01],\n",
       "       [7.10197913e-01],\n",
       "       [7.11761441e-01],\n",
       "       [7.13118128e-01],\n",
       "       [7.14311133e-01],\n",
       "       [7.14311133e-01],\n",
       "       [7.14311133e-01],\n",
       "       [7.14311133e-01],\n",
       "       [7.17640147e-01],\n",
       "       [7.18617352e-01],\n",
       "       [7.19467928e-01],\n",
       "       [7.20182509e-01],\n",
       "       [7.20780233e-01],\n",
       "       [7.21216311e-01],\n",
       "       [7.21703285e-01],\n",
       "       [7.22295716e-01],\n",
       "       [7.22927235e-01],\n",
       "       [7.23266407e-01],\n",
       "       [7.23641817e-01],\n",
       "       [7.23886932e-01],\n",
       "       [7.24134084e-01],\n",
       "       [7.24361691e-01],\n",
       "       [7.24702492e-01],\n",
       "       [7.24702492e-01],\n",
       "       [7.25242398e-01],\n",
       "       [7.25507465e-01],\n",
       "       [7.25720007e-01],\n",
       "       [7.25875546e-01],\n",
       "       [7.26004618e-01],\n",
       "       [7.26239147e-01],\n",
       "       [7.26490371e-01],\n",
       "       [7.26658124e-01],\n",
       "       [7.26818956e-01],\n",
       "       [7.26952915e-01],\n",
       "       [7.27052264e-01],\n",
       "       [7.27120668e-01],\n",
       "       [7.27164235e-01],\n",
       "       [7.27235897e-01],\n",
       "       [7.27337689e-01],\n",
       "       [7.27437446e-01],\n",
       "       [7.27526208e-01],\n",
       "       [7.27618636e-01],\n",
       "       [7.27722057e-01],\n",
       "       [7.27722057e-01],\n",
       "       [7.27722057e-01],\n",
       "       [7.28206995e-01],\n",
       "       [7.28343397e-01],\n",
       "       [7.28468805e-01],\n",
       "       [7.28573447e-01],\n",
       "       [7.28647552e-01],\n",
       "       [7.28748122e-01],\n",
       "       [7.28881267e-01],\n",
       "       [7.29010746e-01],\n",
       "       [7.29112539e-01],\n",
       "       [7.29219624e-01],\n",
       "       [7.29312051e-01],\n",
       "       [7.29382899e-01],\n",
       "       [7.29523372e-01],\n",
       "       [7.29651630e-01],\n",
       "       [7.29751794e-01],\n",
       "       [7.29843000e-01],\n",
       "       [7.29956600e-01],\n",
       "       [7.30055135e-01],\n",
       "       [7.30143898e-01],\n",
       "       [7.30282335e-01],\n",
       "       [7.30432173e-01],\n",
       "       [7.30555953e-01],\n",
       "       [7.30707419e-01],\n",
       "       [7.30868251e-01],\n",
       "       [7.31026233e-01],\n",
       "       [7.31165484e-01],\n",
       "       [7.31376398e-01],\n",
       "       [7.31588126e-01],\n",
       "       [7.31814512e-01],\n",
       "       [7.32069807e-01],\n",
       "       [7.32303522e-01],\n",
       "       [7.32527872e-01],\n",
       "       [7.32768509e-01],\n",
       "       [7.33147176e-01],\n",
       "       [7.33652880e-01],\n",
       "       [7.34130489e-01],\n",
       "       [7.34627235e-01],\n",
       "       [7.35141896e-01],\n",
       "       [7.35617062e-01],\n",
       "       [7.36097522e-01],\n",
       "       [7.36780751e-01],\n",
       "       [7.37588982e-01],\n",
       "       [7.38365453e-01],\n",
       "       [7.39207885e-01],\n",
       "       [7.39953412e-01],\n",
       "       [7.40656185e-01],\n",
       "       [7.41244544e-01],\n",
       "       [7.42126880e-01],\n",
       "       [7.43001886e-01],\n",
       "       [7.43917201e-01],\n",
       "       [7.44751491e-01],\n",
       "       [7.45481952e-01],\n",
       "       [7.46139122e-01],\n",
       "       [7.46723003e-01],\n",
       "       [7.47772277e-01],\n",
       "       [7.48889141e-01],\n",
       "       [7.50062195e-01],\n",
       "       [7.51068717e-01],\n",
       "       [7.52170109e-01],\n",
       "       [7.53218976e-01],\n",
       "       [7.53903427e-01],\n",
       "       [7.55271922e-01],\n",
       "       [7.56828121e-01],\n",
       "       [7.58287415e-01],\n",
       "       [7.59643695e-01],\n",
       "       [7.61406329e-01],\n",
       "       [7.62847707e-01],\n",
       "       [7.64229231e-01],\n",
       "       [7.66299685e-01],\n",
       "       [7.68601411e-01],\n",
       "       [7.70804195e-01],\n",
       "       [7.72772450e-01],\n",
       "       [7.74785086e-01],\n",
       "       [7.76442671e-01],\n",
       "       [7.78090891e-01],\n",
       "       [7.80730567e-01],\n",
       "       [7.83351921e-01],\n",
       "       [7.85938665e-01],\n",
       "       [7.88312867e-01],\n",
       "       [7.90510765e-01],\n",
       "       [7.92222910e-01],\n",
       "       [7.93727807e-01],\n",
       "       [7.96100380e-01],\n",
       "       [7.98611391e-01],\n",
       "       [8.01268983e-01],\n",
       "       [8.03683087e-01],\n",
       "       [8.05904194e-01],\n",
       "       [8.07646470e-01],\n",
       "       [8.09448192e-01],\n",
       "       [8.12003585e-01],\n",
       "       [8.14416468e-01],\n",
       "       [8.16668926e-01],\n",
       "       [8.19148992e-01],\n",
       "       [8.21227183e-01],\n",
       "       [8.23035827e-01],\n",
       "       [8.24496749e-01],\n",
       "       [8.26886424e-01],\n",
       "       [8.29025282e-01],\n",
       "       [8.30669838e-01],\n",
       "       [8.32772051e-01],\n",
       "       [8.34776136e-01],\n",
       "       [8.36384047e-01],\n",
       "       [8.37727704e-01],\n",
       "       [8.39705731e-01],\n",
       "       [8.41915844e-01],\n",
       "       [8.44038823e-01],\n",
       "       [8.45891034e-01],\n",
       "       [8.47588929e-01],\n",
       "       [8.48903270e-01],\n",
       "       [8.50072252e-01],\n",
       "       [8.52136599e-01],\n",
       "       [8.53994511e-01],\n",
       "       [8.55661460e-01],\n",
       "       [8.57133783e-01],\n",
       "       [8.58461154e-01],\n",
       "       [8.59586569e-01],\n",
       "       [8.60539344e-01],\n",
       "       [8.62008002e-01],\n",
       "       [8.63438387e-01],\n",
       "       [8.64716083e-01],\n",
       "       [8.65857785e-01],\n",
       "       [8.66920089e-01],\n",
       "       [8.67709589e-01],\n",
       "       [8.68462037e-01],\n",
       "       [8.69641199e-01],\n",
       "       [8.70780865e-01],\n",
       "       [8.71860269e-01],\n",
       "       [8.72820374e-01],\n",
       "       [8.73666878e-01],\n",
       "       [8.74352143e-01],\n",
       "       [8.75011757e-01],\n",
       "       [8.76037008e-01],\n",
       "       [8.77007699e-01],\n",
       "       [8.77887998e-01],\n",
       "       [8.78663248e-01],\n",
       "       [8.79365207e-01],\n",
       "       [8.79939723e-01],\n",
       "       [8.80486958e-01],\n",
       "       [8.81291524e-01],\n",
       "       [8.82071252e-01],\n",
       "       [8.82886812e-01],\n",
       "       [8.83642924e-01],\n",
       "       [8.84310274e-01],\n",
       "       [8.84848551e-01],\n",
       "       [8.85310281e-01],\n",
       "       [8.86137241e-01],\n",
       "       [8.86765096e-01],\n",
       "       [8.87510622e-01],\n",
       "       [8.88121783e-01],\n",
       "       [8.88661281e-01],\n",
       "       [8.89068043e-01],\n",
       "       [8.89554610e-01],\n",
       "       [8.90400300e-01],\n",
       "       [8.91226039e-01],\n",
       "       [8.91971158e-01],\n",
       "       [8.92698362e-01],\n",
       "       [8.93381591e-01],\n",
       "       [8.93921497e-01],\n",
       "       [8.94423536e-01],\n",
       "       [8.95304650e-01],\n",
       "       [8.96277784e-01],\n",
       "       [8.97217122e-01],\n",
       "       [8.98123888e-01],\n",
       "       [8.98973649e-01],\n",
       "       [8.99659729e-01],\n",
       "       [9.00353138e-01],\n",
       "       [9.01577902e-01],\n",
       "       [9.02818953e-01],\n",
       "       [9.04052267e-01],\n",
       "       [9.05279882e-01],\n",
       "       [9.06558799e-01],\n",
       "       [9.07665077e-01],\n",
       "       [9.08665492e-01],\n",
       "       [9.10582036e-01],\n",
       "       [9.12566170e-01],\n",
       "       [9.14582063e-01],\n",
       "       [9.16741280e-01],\n",
       "       [9.18661896e-01],\n",
       "       [9.20152949e-01],\n",
       "       [9.21711592e-01],\n",
       "       [9.24399314e-01],\n",
       "       [9.26918061e-01],\n",
       "       [9.29480782e-01],\n",
       "       [9.32024367e-01],\n",
       "       [9.34540264e-01],\n",
       "       [9.36526026e-01],\n",
       "       [9.38320827e-01],\n",
       "       [9.41534612e-01],\n",
       "       [9.44989847e-01],\n",
       "       [9.48174723e-01],\n",
       "       [9.50902347e-01],\n",
       "       [9.53501307e-01],\n",
       "       [9.55607185e-01],\n",
       "       [9.57360454e-01],\n",
       "       [9.60472853e-01],\n",
       "       [9.63413020e-01],\n",
       "       [9.66307992e-01],\n",
       "       [9.68741233e-01],\n",
       "       [9.70968040e-01],\n",
       "       [9.72658198e-01],\n",
       "       [9.73971318e-01],\n",
       "       [9.76319054e-01],\n",
       "       [9.78602865e-01],\n",
       "       [9.80629345e-01],\n",
       "       [9.82330904e-01],\n",
       "       [9.83819106e-01],\n",
       "       [9.84856573e-01],\n",
       "       [9.85766188e-01],\n",
       "       [9.87290629e-01],\n",
       "       [9.88655052e-01],\n",
       "       [9.89867194e-01],\n",
       "       [9.90885523e-01],\n",
       "       [9.91777630e-01],\n",
       "       [9.92424622e-01],\n",
       "       [9.92923404e-01],\n",
       "       [9.93785380e-01],\n",
       "       [9.94655093e-01],\n",
       "       [9.95381890e-01],\n",
       "       [9.95972692e-01],\n",
       "       [9.96474731e-01],\n",
       "       [9.96824897e-01],\n",
       "       [9.97154296e-01],\n",
       "       [9.97682394e-01],\n",
       "       [9.98139645e-01],\n",
       "       [9.98568394e-01],\n",
       "       [9.98944211e-01],\n",
       "       [9.99263431e-01],\n",
       "       [9.99482488e-01],\n",
       "       [9.99673043e-01],\n",
       "       [1.00000000e+00]])"
      ]
     },
     "execution_count": 39,
     "metadata": {},
     "output_type": "execute_result"
    }
   ],
   "source": [
    "scaled_prediction=scaler.fit_transform(xTest,yPredict)\n",
    "scaled_prediction"
   ]
  },
  {
   "cell_type": "code",
   "execution_count": 40,
   "metadata": {},
   "outputs": [],
   "source": [
    "dates=covidDF.iloc[701:1070, 1]\n",
    "PredictedAndReal2=pd.DataFrame(dates)"
   ]
  },
  {
   "cell_type": "code",
   "execution_count": 41,
   "metadata": {},
   "outputs": [
    {
     "data": {
      "text/html": [
       "<div>\n",
       "<style scoped>\n",
       "    .dataframe tbody tr th:only-of-type {\n",
       "        vertical-align: middle;\n",
       "    }\n",
       "\n",
       "    .dataframe tbody tr th {\n",
       "        vertical-align: top;\n",
       "    }\n",
       "\n",
       "    .dataframe thead th {\n",
       "        text-align: right;\n",
       "    }\n",
       "</style>\n",
       "<table border=\"1\" class=\"dataframe\">\n",
       "  <thead>\n",
       "    <tr style=\"text-align: right;\">\n",
       "      <th></th>\n",
       "      <th>date</th>\n",
       "      <th>new_cases_real</th>\n",
       "      <th>Cases_predicted</th>\n",
       "    </tr>\n",
       "  </thead>\n",
       "  <tbody>\n",
       "    <tr>\n",
       "      <th>702</th>\n",
       "      <td>2021-12-24</td>\n",
       "      <td>0.000104</td>\n",
       "      <td>0.000000</td>\n",
       "    </tr>\n",
       "    <tr>\n",
       "      <th>703</th>\n",
       "      <td>2021-12-25</td>\n",
       "      <td>0.000190</td>\n",
       "      <td>0.000104</td>\n",
       "    </tr>\n",
       "    <tr>\n",
       "      <th>704</th>\n",
       "      <td>2021-12-26</td>\n",
       "      <td>0.000303</td>\n",
       "      <td>0.000104</td>\n",
       "    </tr>\n",
       "    <tr>\n",
       "      <th>705</th>\n",
       "      <td>2021-12-27</td>\n",
       "      <td>0.000382</td>\n",
       "      <td>0.000190</td>\n",
       "    </tr>\n",
       "    <tr>\n",
       "      <th>706</th>\n",
       "      <td>2021-12-28</td>\n",
       "      <td>0.000459</td>\n",
       "      <td>0.000303</td>\n",
       "    </tr>\n",
       "    <tr>\n",
       "      <th>...</th>\n",
       "      <td>...</td>\n",
       "      <td>...</td>\n",
       "      <td>...</td>\n",
       "    </tr>\n",
       "    <tr>\n",
       "      <th>1066</th>\n",
       "      <td>2022-12-23</td>\n",
       "      <td>0.999482</td>\n",
       "      <td>0.998944</td>\n",
       "    </tr>\n",
       "    <tr>\n",
       "      <th>1067</th>\n",
       "      <td>2022-12-24</td>\n",
       "      <td>0.999673</td>\n",
       "      <td>0.999263</td>\n",
       "    </tr>\n",
       "    <tr>\n",
       "      <th>1068</th>\n",
       "      <td>2022-12-25</td>\n",
       "      <td>1.000000</td>\n",
       "      <td>0.999482</td>\n",
       "    </tr>\n",
       "    <tr>\n",
       "      <th>1069</th>\n",
       "      <td>2022-12-26</td>\n",
       "      <td>NaN</td>\n",
       "      <td>0.999673</td>\n",
       "    </tr>\n",
       "    <tr>\n",
       "      <th>1070</th>\n",
       "      <td>2022-12-27</td>\n",
       "      <td>NaN</td>\n",
       "      <td>1.000000</td>\n",
       "    </tr>\n",
       "  </tbody>\n",
       "</table>\n",
       "<p>369 rows × 3 columns</p>\n",
       "</div>"
      ],
      "text/plain": [
       "           date  new_cases_real  Cases_predicted\n",
       "702  2021-12-24        0.000104         0.000000\n",
       "703  2021-12-25        0.000190         0.000104\n",
       "704  2021-12-26        0.000303         0.000104\n",
       "705  2021-12-27        0.000382         0.000190\n",
       "706  2021-12-28        0.000459         0.000303\n",
       "...         ...             ...              ...\n",
       "1066 2022-12-23        0.999482         0.998944\n",
       "1067 2022-12-24        0.999673         0.999263\n",
       "1068 2022-12-25        1.000000         0.999482\n",
       "1069 2022-12-26             NaN         0.999673\n",
       "1070 2022-12-27             NaN         1.000000\n",
       "\n",
       "[369 rows x 3 columns]"
      ]
     },
     "execution_count": 41,
     "metadata": {},
     "output_type": "execute_result"
    }
   ],
   "source": [
    "PredictedAndReal2['new_cases_real']=TotalDataScaled['confirmed']\n",
    "PredictedAndReal2['Cases_predicted']=scaled_prediction\n",
    "PredictedAndReal2"
   ]
  },
  {
   "cell_type": "code",
   "execution_count": 42,
   "metadata": {},
   "outputs": [
    {
     "data": {
      "text/plain": [
       "[<matplotlib.lines.Line2D at 0x1baabd82e60>]"
      ]
     },
     "execution_count": 42,
     "metadata": {},
     "output_type": "execute_result"
    },
    {
     "data": {
      "image/png": "[encoded data removed]",
      "text/plain": [
       "<Figure size 640x480 with 1 Axes>"
      ]
     },
     "metadata": {},
     "output_type": "display_data"
    }
   ],
   "source": [
    "plt.plot(PredictedAndReal2['date'],PredictedAndReal2['Cases_predicted'])\n",
    "plt.plot(PredictedAndReal2['date'],PredictedAndReal2['new_cases_real'],color='red')"
   ]
  },
  {
   "cell_type": "code",
   "execution_count": 43,
   "metadata": {},
   "outputs": [],
   "source": [
    "#predict the prediction of death using the cases\n",
    "yTrain = covidDF.iloc[0:600, 5]\n",
    "xTrain = covidDF.iloc[0:600, 4]\n",
    "\n",
    "yTest = covidDF.iloc[0:1070, 5]\n",
    "xTest = covidDF.iloc[0:1070, 4]\n",
    "\n",
    "xTrain = xTrain.to_numpy()\n",
    "xTest = xTest.to_numpy()\n",
    "\n",
    "xTrain = xTrain.reshape(-1, 1)\n",
    "xTest = xTest.reshape(-1, 1)"
   ]
  },
  {
   "cell_type": "code",
   "execution_count": 44,
   "metadata": {},
   "outputs": [],
   "source": [
    "SVM = SVR(kernel =\"linear\", gamma = 1.0, C = 0.01, epsilon = 0.01, )\n",
    "SVM.fit(xTrain,yTrain)\n",
    "\n",
    "yPredict = SVM.predict(xTest)"
   ]
  },
  {
   "cell_type": "code",
   "execution_count": 45,
   "metadata": {},
   "outputs": [
    {
     "data": {
      "text/plain": [
       "97.5538414611751"
      ]
     },
     "execution_count": 45,
     "metadata": {},
     "output_type": "execute_result"
    }
   ],
   "source": [
    "mean_absolute_error(yTest, yPredict)"
   ]
  },
  {
   "cell_type": "code",
   "execution_count": 46,
   "metadata": {},
   "outputs": [],
   "source": [
    "scaled_prediction=scaler.fit_transform(xTest,yPredict)"
   ]
  },
  {
   "cell_type": "code",
   "execution_count": 47,
   "metadata": {},
   "outputs": [],
   "source": [
    "dates=covidDF.iloc[0:1070, 1]"
   ]
  },
  {
   "cell_type": "code",
   "execution_count": 48,
   "metadata": {},
   "outputs": [],
   "source": [
    "PredictedAndReal=pd.DataFrame(dates)\n"
   ]
  },
  {
   "cell_type": "code",
   "execution_count": 49,
   "metadata": {},
   "outputs": [],
   "source": [
    "realD=covidDF.iloc[0:1070,5]\n",
    "realD=realD.to_numpy()\n",
    "realD=realD.reshape(-1,1)\n",
    "scaler.fit(realD)\n",
    "scVer=scaler.transform(realD)\n",
    "PredictedAndReal['deaths_real']=scVer\n",
    "PredictedAndReal['deaths_predicted']=scaled_prediction"
   ]
  },
  {
   "cell_type": "code",
   "execution_count": 50,
   "metadata": {},
   "outputs": [
    {
     "data": {
      "text/plain": [
       "[<matplotlib.lines.Line2D at 0x1bab5018d90>]"
      ]
     },
     "execution_count": 50,
     "metadata": {},
     "output_type": "execute_result"
    },
    {
     "data": {
      "image/png": "[encoded data removed]",
      "text/plain": [
       "<Figure size 640x480 with 1 Axes>"
      ]
     },
     "metadata": {},
     "output_type": "display_data"
    }
   ],
   "source": [
    "plt.plot(PredictedAndReal['date'],PredictedAndReal['deaths_predicted'])\n",
    "plt.plot(PredictedAndReal['date'],PredictedAndReal['deaths_real'],color='red')"
   ]
  },
  {
   "cell_type": "code",
   "execution_count": 51,
   "metadata": {},
   "outputs": [],
   "source": [
    "#predict the prediction of death using the cases\n",
    "yTrain = covidDF.iloc[0:600, 5]\n",
    "xTrain = covidDF.iloc[0:600, 4]\n",
    "\n",
    "yTest = covidDF.iloc[300:1070, 5]\n",
    "xTest = covidDF.iloc[300:1070, 4]\n",
    "\n",
    "xTrain = xTrain.to_numpy()\n",
    "xTest = xTest.to_numpy()\n",
    "\n",
    "xTrain = xTrain.reshape(-1, 1)\n",
    "xTest = xTest.reshape(-1, 1)"
   ]
  },
  {
   "cell_type": "code",
   "execution_count": 52,
   "metadata": {},
   "outputs": [],
   "source": [
    "SVM = SVR(kernel =\"linear\", gamma = 1.0, C = 0.01, epsilon = 0.01, )\n",
    "SVM.fit(xTrain,yTrain)\n",
    "\n",
    "yPredict = SVM.predict(xTest)"
   ]
  },
  {
   "cell_type": "code",
   "execution_count": 53,
   "metadata": {},
   "outputs": [
    {
     "data": {
      "text/plain": [
       "130.3858638318325"
      ]
     },
     "execution_count": 53,
     "metadata": {},
     "output_type": "execute_result"
    }
   ],
   "source": [
    "mean_absolute_error(yTest, yPredict)"
   ]
  },
  {
   "cell_type": "code",
   "execution_count": 54,
   "metadata": {},
   "outputs": [],
   "source": [
    "scaled_prediction=scaler.fit_transform(xTest,yPredict)"
   ]
  },
  {
   "cell_type": "code",
   "execution_count": 55,
   "metadata": {},
   "outputs": [],
   "source": [
    "dates=covidDF.iloc[300:1070, 1]\n",
    "PredictedAndReal=pd.DataFrame(dates)\n",
    "realD=covidDF.iloc[300:1070,5]\n",
    "realD=realD.to_numpy()\n",
    "realD=realD.reshape(-1,1)\n",
    "scaler.fit(realD)\n",
    "scVer=scaler.transform(realD)\n",
    "PredictedAndReal['deaths_real']=scVer\n",
    "PredictedAndReal['deaths_predicted']=scaled_prediction"
   ]
  },
  {
   "cell_type": "code",
   "execution_count": 56,
   "metadata": {},
   "outputs": [
    {
     "data": {
      "text/plain": [
       "[<matplotlib.lines.Line2D at 0x1bab50a4130>]"
      ]
     },
     "execution_count": 56,
     "metadata": {},
     "output_type": "execute_result"
    },
    {
     "data": {
      "image/png": "[encoded data removed]",
      "text/plain": [
       "<Figure size 640x480 with 1 Axes>"
      ]
     },
     "metadata": {},
     "output_type": "display_data"
    }
   ],
   "source": [
    "plt.plot(PredictedAndReal['date'],PredictedAndReal['deaths_predicted'])\n",
    "plt.plot(PredictedAndReal['date'],PredictedAndReal['deaths_real'],color='red')"
   ]
  },
  {
   "cell_type": "code",
   "execution_count": 57,
   "metadata": {},
   "outputs": [],
   "source": [
    "#predict the prediction of death using the cases\n",
    "yTrain = covidDF.iloc[0:600, 5]\n",
    "xTrain = covidDF.iloc[0:600, 4]\n",
    "\n",
    "yTest = covidDF.iloc[600:1070, 5]\n",
    "xTest = covidDF.iloc[600:1070, 4]\n",
    "\n",
    "xTrain = xTrain.to_numpy()\n",
    "xTest = xTest.to_numpy()\n",
    "\n",
    "xTrain = xTrain.reshape(-1, 1)\n",
    "xTest = xTest.reshape(-1, 1)"
   ]
  },
  {
   "cell_type": "code",
   "execution_count": 58,
   "metadata": {},
   "outputs": [],
   "source": [
    "SVM = SVR(kernel =\"linear\", gamma = 1.0, C = 0.01, epsilon = 0.01, )\n",
    "SVM.fit(xTrain,yTrain)\n",
    "\n",
    "yPredict = SVM.predict(xTest)"
   ]
  },
  {
   "cell_type": "code",
   "execution_count": 59,
   "metadata": {},
   "outputs": [
    {
     "data": {
      "text/plain": [
       "118.42788576006848"
      ]
     },
     "execution_count": 59,
     "metadata": {},
     "output_type": "execute_result"
    }
   ],
   "source": [
    "\n",
    "mean_absolute_error(yTest, yPredict)"
   ]
  },
  {
   "cell_type": "code",
   "execution_count": 60,
   "metadata": {},
   "outputs": [],
   "source": [
    "\n",
    "scaled_prediction=scaler.fit_transform(xTest,yPredict)"
   ]
  },
  {
   "cell_type": "code",
   "execution_count": 61,
   "metadata": {},
   "outputs": [],
   "source": [
    "dates=covidDF.iloc[600:1070, 1]\n",
    "PredictedAndReal=pd.DataFrame(dates)\n",
    "realD=covidDF.iloc[600:1070,5]\n",
    "realD=realD.to_numpy()\n",
    "realD=realD.reshape(-1,1)\n",
    "scaler.fit(realD)\n",
    "scVer=scaler.transform(realD)\n",
    "PredictedAndReal['deaths_real']=scVer\n",
    "PredictedAndReal['deaths_predicted']=scaled_prediction"
   ]
  },
  {
   "cell_type": "code",
   "execution_count": 62,
   "metadata": {},
   "outputs": [
    {
     "data": {
      "text/plain": [
       "[<matplotlib.lines.Line2D at 0x1bab50ff280>]"
      ]
     },
     "execution_count": 62,
     "metadata": {},
     "output_type": "execute_result"
    },
    {
     "data": {
      "image/png": "[encoded data removed]",
      "text/plain": [
       "<Figure size 640x480 with 1 Axes>"
      ]
     },
     "metadata": {},
     "output_type": "display_data"
    }
   ],
   "source": [
    "plt.plot(PredictedAndReal['date'],PredictedAndReal['deaths_predicted'])\n",
    "plt.plot(PredictedAndReal['date'],PredictedAndReal['deaths_real'],color='red')"
   ]
  },
  {
   "cell_type": "code",
   "execution_count": 63,
   "metadata": {},
   "outputs": [],
   "source": [
    "#predict the prediction of death using the cases\n",
    "yTrain = covidDF.iloc[0:600, 5]\n",
    "xTrain = covidDF.iloc[0:600, 4]\n",
    "\n",
    "yTest = covidDF.iloc[900:1070, 5]\n",
    "xTest = covidDF.iloc[900:1070, 4]\n",
    "\n",
    "xTrain = xTrain.to_numpy()\n",
    "xTest = xTest.to_numpy()\n",
    "\n",
    "xTrain = xTrain.reshape(-1, 1)\n",
    "xTest = xTest.reshape(-1, 1)"
   ]
  },
  {
   "cell_type": "code",
   "execution_count": 64,
   "metadata": {},
   "outputs": [],
   "source": [
    "SVM = SVR(kernel =\"linear\", gamma = 1.0, C = 0.01, epsilon = 0.01, )\n",
    "SVM.fit(xTrain,yTrain)\n",
    "\n",
    "yPredict = SVM.predict(xTest)"
   ]
  },
  {
   "cell_type": "code",
   "execution_count": 65,
   "metadata": {},
   "outputs": [
    {
     "data": {
      "text/plain": [
       "80.04480416337199"
      ]
     },
     "execution_count": 65,
     "metadata": {},
     "output_type": "execute_result"
    }
   ],
   "source": [
    "mean_absolute_error(yTest, yPredict)"
   ]
  },
  {
   "cell_type": "code",
   "execution_count": 66,
   "metadata": {},
   "outputs": [],
   "source": [
    "scaled_prediction=scaler.fit_transform(xTest,yPredict)"
   ]
  },
  {
   "cell_type": "code",
   "execution_count": 67,
   "metadata": {},
   "outputs": [],
   "source": [
    "dates=covidDF.iloc[900:1070, 1]\n",
    "PredictedAndReal=pd.DataFrame(dates)\n",
    "realD=covidDF.iloc[900:1070,5]\n",
    "realD=realD.to_numpy()\n",
    "realD=realD.reshape(-1,1)\n",
    "scaler.fit(realD)\n",
    "scVer=scaler.transform(realD)\n",
    "PredictedAndReal['deaths_real']=scVer\n",
    "PredictedAndReal['deaths_predicted']=scaled_prediction"
   ]
  },
  {
   "cell_type": "code",
   "execution_count": 68,
   "metadata": {},
   "outputs": [
    {
     "data": {
      "text/plain": [
       "[<matplotlib.lines.Line2D at 0x1bab51919f0>]"
      ]
     },
     "execution_count": 68,
     "metadata": {},
     "output_type": "execute_result"
    },
    {
     "data": {
      "image/png": "[encoded data removed]",
      "text/plain": [
       "<Figure size 640x480 with 1 Axes>"
      ]
     },
     "metadata": {},
     "output_type": "display_data"
    }
   ],
   "source": [
    "plt.plot(PredictedAndReal['date'],PredictedAndReal['deaths_predicted'])\n",
    "plt.plot(PredictedAndReal['date'],PredictedAndReal['deaths_real'],color='red')"
   ]
  },
  {
   "cell_type": "code",
   "execution_count": 69,
   "metadata": {},
   "outputs": [],
   "source": [
    "#predict the prediction of death using the cases\n",
    "yTrain = covidDF.iloc[0:600, 5]\n",
    "xTrain = covidDF.iloc[0:600, 4]\n",
    "\n",
    "yTest = covidDF.iloc[1000:1070, 5]\n",
    "xTest = covidDF.iloc[1000:1070, 4]\n",
    "\n",
    "xTrain = xTrain.to_numpy()\n",
    "xTest = xTest.to_numpy()\n",
    "\n",
    "xTrain = xTrain.reshape(-1, 1)\n",
    "xTest = xTest.reshape(-1, 1)"
   ]
  },
  {
   "cell_type": "code",
   "execution_count": 70,
   "metadata": {},
   "outputs": [],
   "source": [
    "SVM = SVR(kernel =\"linear\", gamma = 1.0, C = 0.01, epsilon = 0.01, )\n",
    "SVM.fit(xTrain,yTrain)\n",
    "\n",
    "yPredict = SVM.predict(xTest)\n",
    "scaled_prediction=scaler.fit_transform(xTest,yPredict)"
   ]
  },
  {
   "cell_type": "code",
   "execution_count": 71,
   "metadata": {},
   "outputs": [
    {
     "data": {
      "text/plain": [
       "73.55917453812611"
      ]
     },
     "execution_count": 71,
     "metadata": {},
     "output_type": "execute_result"
    }
   ],
   "source": [
    "mean_absolute_error(yTest, yPredict)"
   ]
  },
  {
   "cell_type": "code",
   "execution_count": 72,
   "metadata": {},
   "outputs": [],
   "source": [
    "\n",
    "scaled_prediction=scaler.fit_transform(xTest,yPredict)"
   ]
  },
  {
   "cell_type": "code",
   "execution_count": 73,
   "metadata": {},
   "outputs": [],
   "source": [
    "dates=covidDF.iloc[1000:1070, 1]\n",
    "PredictedAndReal=pd.DataFrame(dates)\n",
    "realD=covidDF.iloc[1000:1070,5]\n",
    "realD=realD.to_numpy()\n",
    "realD=realD.reshape(-1,1)\n",
    "scaler.fit(realD)\n",
    "scVer=scaler.transform(realD)\n",
    "PredictedAndReal['deaths_real']=scVer\n",
    "PredictedAndReal['deaths_predicted']=scaled_prediction"
   ]
  },
  {
   "cell_type": "code",
   "execution_count": 74,
   "metadata": {},
   "outputs": [
    {
     "data": {
      "text/plain": [
       "[<matplotlib.lines.Line2D at 0x1bab51fb4f0>]"
      ]
     },
     "execution_count": 74,
     "metadata": {},
     "output_type": "execute_result"
    },
    {
     "data": {
      "image/png": "[encoded data removed]",
      "text/plain": [
       "<Figure size 640x480 with 1 Axes>"
      ]
     },
     "metadata": {},
     "output_type": "display_data"
    }
   ],
   "source": [
    "plt.plot(PredictedAndReal['date'],PredictedAndReal['deaths_predicted'])\n",
    "plt.plot(PredictedAndReal['date'],PredictedAndReal['deaths_real'],color='red')"
   ]
  }
 ],
 "metadata": {
  "kernelspec": {
   "display_name": "Python 3",
   "language": "python",
   "name": "python3"
  },
  "language_info": {
   "codemirror_mode": {
    "name": "ipython",
    "version": 3
   },
   "file_extension": ".py",
   "mimetype": "text/x-python",
   "name": "python",
   "nbconvert_exporter": "python",
   "pygments_lexer": "ipython3",
   "version": "3.10.9 (tags/v3.10.9:1dd9be6, Dec  6 2022, 20:01:21) [MSC v.1934 64 bit (AMD64)]"
  },
  "orig_nbformat": 4,
  "vscode": {
   "interpreter": {
    "hash": "fb51460fd7f1cdcf1e32d31280133b6619d35643944ea66d011651e7c7e3e996"
   }
  }
 },
 "nbformat": 4,
 "nbformat_minor": 2
}
